{
 "cells": [
  {
   "cell_type": "code",
   "execution_count": 1,
   "id": "9037d40d",
   "metadata": {
    "vscode": {
     "languageId": "r"
    }
   },
   "outputs": [
    {
     "name": "stdout",
     "output_type": "stream",
     "text": [
      "[1] \"chaliye shuru krte hai\"\n"
     ]
    }
   ],
   "source": [
    "print(\"chaliye shuru krte hai\")"
   ]
  },
  {
   "cell_type": "code",
   "execution_count": 4,
   "id": "703b91e6",
   "metadata": {
    "vscode": {
     "languageId": "r"
    }
   },
   "outputs": [
    {
     "name": "stdout",
     "output_type": "stream",
     "text": [
      "[1] 30\n",
      "[1] \"double\"\n",
      "[1] \"double\"\n",
      "[1] \"double\"\n"
     ]
    }
   ],
   "source": [
    "#varriable\n",
    "a <- 10\n",
    "b <- 20\n",
    "c <- a + b\n",
    "print(c)\n",
    "#type of variable\n",
    "print(typeof(a))\n",
    "print(typeof(b))\n",
    "print(typeof(c))"
   ]
  },
  {
   "cell_type": "code",
   "execution_count": 2,
   "id": "c52a370c",
   "metadata": {
    "vscode": {
     "languageId": "r"
    }
   },
   "outputs": [
    {
     "name": "stdout",
     "output_type": "stream",
     "text": [
      "[1] 5.5\n",
      "[1] 5\n",
      "[1] \"Hello\"\n",
      "[1] TRUE\n"
     ]
    }
   ],
   "source": [
    "#DATATYPES IN R\n",
    "#1. Numeric \n",
    "num <- 5.5\n",
    "print(num)\n",
    "#2. Integer\n",
    "int_num <- 5L\n",
    "print(int_num)\n",
    "#3. Character\n",
    "char <- \"Hello\"\n",
    "print(char)\n",
    "#4. Logical\n",
    "log_val <- TRUE\n",
    "print(log_val)\n",
    "#5. Complex\n",
    "complex_num <- 2 + 3i"
   ]
  },
  {
   "cell_type": "code",
   "execution_count": 4,
   "id": "8087b18b",
   "metadata": {
    "vscode": {
     "languageId": "r"
    }
   },
   "outputs": [
    {
     "name": "stdout",
     "output_type": "stream",
     "text": [
      "[1] \"5.5\"\n",
      "[1] 5.5\n",
      "[1] apple  banana apple  orange\n",
      "Levels: apple banana orange\n",
      "[1] \"2023-10-01\"\n"
     ]
    }
   ],
   "source": [
    "#converting data types\n",
    "num_to_char <- as.character(num)\n",
    "print(num_to_char)\n",
    "char_to_num <- as.numeric(num_to_char)\n",
    "print(char_to_num)  \n",
    "#6. Factor\n",
    "factor_var <- factor(c(\"apple\", \"banana\", \"apple\", \"orange\"))\n",
    "print(factor_var)\n",
    "#7. Date\n",
    "date_var <- as.Date(\"2023-10-01\")\n",
    "print(date_var)\n"
   ]
  },
  {
   "cell_type": "code",
   "execution_count": 1,
   "id": "6c086d0c",
   "metadata": {
    "vscode": {
     "languageId": "r"
    }
   },
   "outputs": [
    {
     "name": "stdout",
     "output_type": "stream",
     "text": [
      ", , 1\n",
      "\n",
      "     [,1] [,2] [,3]\n",
      "[1,]    1    3    5\n",
      "[2,]    2    4    6\n",
      "\n",
      ", , 2\n",
      "\n",
      "     [,1] [,2] [,3]\n",
      "[1,]    7    9   11\n",
      "[2,]    8   10   12\n",
      "\n",
      ", , 3\n",
      "\n",
      "     [,1] [,2] [,3]\n",
      "[1,]   13   15   17\n",
      "[2,]   14   16   18\n",
      "\n"
     ]
    }
   ],
   "source": [
    "#CREATING ARRAY\n",
    "#CREATE THE SIMPLE ARRAY WITH 2 ROWS AND 3 COLUMNS AND 3 LAYERS \n",
    "my_array <- array(1:18, dim = c(2, 3, 3))\n",
    "print(my_array)"
   ]
  },
  {
   "cell_type": "code",
   "execution_count": 16,
   "id": "b32a3ed8",
   "metadata": {
    "vscode": {
     "languageId": "r"
    }
   },
   "outputs": [
    {
     "name": "stdout",
     "output_type": "stream",
     "text": [
      ", , Layer1\n",
      "\n",
      "     Col1 Col2 Col3\n",
      "Row1    1    3    5\n",
      "Row2    2    4    6\n",
      "\n",
      ", , Layer2\n",
      "\n",
      "     Col1 Col2 Col3\n",
      "Row1    7    9   11\n",
      "Row2    8   10   12\n",
      "\n",
      ", , Layer3\n",
      "\n",
      "     Col1 Col2 Col3\n",
      "Row1   13   15   17\n",
      "Row2   14   16   18\n",
      "\n",
      " [1]  1  2  3  4  5  6  7  8  9 10 11 12 13 14 15 16 17 18\n"
     ]
    }
   ],
   "source": [
    "# WE CAN NAME THE ROWS AND COLUMNS AND LAYERS OF THE ARRAY\n",
    "#CREATE AN ARRAY WITH NAMED DIMENSIONS\n",
    "my_array_named <- array(1:18, dim = c(2, 3, 3), \n",
    " dimnames = list(c(\"Row1\", \"Row2\"), c(\"Col1\", \"Col2\", \"Col3\"), c(\"Layer1\", \"Layer2\", \"Layer3\")))\n",
    "print(my_array_named)\n",
    "#FILTER THE ARRAY\n",
    "Filter<-my_array_named[5>2] # Extract the first layer\n",
    "print(Filter)      "
   ]
  },
  {
   "cell_type": "code",
   "execution_count": 12,
   "id": "06f1f187",
   "metadata": {
    "vscode": {
     "languageId": "r"
    }
   },
   "outputs": [
    {
     "name": "stdout",
     "output_type": "stream",
     "text": [
      ", , Layer1\n",
      "\n",
      "     Col1 Col2 Col3\n",
      "Row1    1    3    5\n",
      "Row2    2    4    6\n",
      "\n",
      ", , Layer2\n",
      "\n",
      "     Col1 Col2 Col3\n",
      "Row1    7    9   11\n",
      "Row2    8   10   12\n",
      "\n",
      ", , Layer3\n",
      "\n",
      "     Col1 Col2 Col3\n",
      "Row1   13   15   17\n",
      "Row2   14   16   18\n",
      "\n"
     ]
    }
   ],
   "source": [
    "#CREATING ARRAY WITH NAMED DIMENSIONS\n",
    "ROW_NAMES <- c(\"Row1\", \"Row2\")\n",
    "COL_NAMES <- c(\"Col1\", \"Col2\", \"Col3\")  \n",
    "my_array_named <- array(1:18, dim = c(2, 3, 3), \n",
    "dimnames = list(ROW_NAMES, COL_NAMES, c(\"Layer1\", \"Layer2\", \"Layer3\")))\n",
    "print(my_array_named)\n"
   ]
  },
  {
   "cell_type": "code",
   "execution_count": 18,
   "id": "35220d9f",
   "metadata": {
    "vscode": {
     "languageId": "r"
    }
   },
   "outputs": [
    {
     "name": "stdout",
     "output_type": "stream",
     "text": [
      ", , Layer1\n",
      "\n",
      "     Col1 Col2 Col3\n",
      "Row1    1    3    5\n",
      "Row2    2    4    6\n",
      "\n",
      ", , Layer2\n",
      "\n",
      "     Col1 Col2 Col3\n",
      "Row1    7    9   11\n",
      "Row2    8   10   12\n",
      "\n",
      ", , Layer3\n",
      "\n",
      "     Col1 Col2 Col3\n",
      "Row1   13   15   17\n",
      "Row2   14   16   18\n",
      "\n",
      "[1] 11 12 13 14 15 16 17 18\n"
     ]
    }
   ],
   "source": [
    "# WE CAN NAME THE ROWS AND COLUMNS AND LAYERS OF THE ARRAY\n",
    "#CREATE AN ARRAY WITH NAMED DIMENSIONS\n",
    "my_array_named <- array(1:18, dim = c(2, 3, 3), \n",
    " dimnames = list(c(\"Row1\", \"Row2\"), c(\"Col1\", \"Col2\", \"Col3\"), c(\"Layer1\", \"Layer2\", \"Layer3\")))\n",
    "print(my_array_named)\n",
    "#FILTER THE ARRAY (values greater than 10)\n",
    "Filter <- my_array_named[my_array_named > 10]\n",
    "print(Filter)"
   ]
  },
  {
   "cell_type": "code",
   "execution_count": 4,
   "id": "1eb6cda3",
   "metadata": {
    "vscode": {
     "languageId": "r"
    }
   },
   "outputs": [],
   "source": [
    "#ANOTHER ARRAY WITH CHARACTER DATA\n",
    "char_array <- array(c(\"apple\", \"banana\", \"cherry\", \"date\", \"elderberry\", \"fig\", \"grape\"), dim = c(2, 3))"
   ]
  },
  {
   "cell_type": "code",
   "execution_count": 9,
   "id": "0dcf1ec8",
   "metadata": {
    "vscode": {
     "languageId": "r"
    }
   },
   "outputs": [
    {
     "name": "stdout",
     "output_type": "stream",
     "text": [
      "     [,1] [,2] [,3]\n",
      "[1,]    1    3    5\n",
      "[2,]    2    4    6\n"
     ]
    }
   ],
   "source": [
    "# Create a numeric vector\n",
    "vec <- c(1, 2, 3, 4, 5, 6)\n",
    "\n",
    "# Use the vector in an array (2 rows, 3 columns)\n",
    "my_array_from_vec <- array(vec, dim = c(2, 3))\n",
    "print(my_array_from_vec)"
   ]
  },
  {
   "cell_type": "code",
   "execution_count": 20,
   "id": "99e3fbee",
   "metadata": {
    "vscode": {
     "languageId": "r"
    }
   },
   "outputs": [
    {
     "name": "stdout",
     "output_type": "stream",
     "text": [
      "     [,1] [,2] [,3]\n",
      "[1,]    1    3    5\n",
      "[2,]    2    4    6\n"
     ]
    }
   ],
   "source": [
    "#ARRAY BASIC OPERATIONS\n",
    "# Create a numeric vector\n",
    "vec <- c(1, 2, 3, 4, 5, 6)\n",
    "# Use the vector in an array (2 rows, 3 columns)\n",
    "my_array_from_vec <- array(vec, dim = c(2, 3))\n",
    "print(my_array_from_vec)"
   ]
  }
 ],
 "metadata": {
  "kernelspec": {
   "display_name": "R",
   "language": "R",
   "name": "ir"
  },
  "language_info": {
   "codemirror_mode": "r",
   "file_extension": ".r",
   "mimetype": "text/x-r-source",
   "name": "R",
   "pygments_lexer": "r",
   "version": "4.5.1"
  }
 },
 "nbformat": 4,
 "nbformat_minor": 5
}
